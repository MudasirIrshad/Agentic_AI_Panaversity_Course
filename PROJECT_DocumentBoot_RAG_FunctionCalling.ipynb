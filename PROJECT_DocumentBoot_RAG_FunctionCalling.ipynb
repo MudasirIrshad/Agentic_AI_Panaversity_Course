{
  "nbformat": 4,
  "nbformat_minor": 0,
  "metadata": {
    "colab": {
      "provenance": [],
      "authorship_tag": "ABX9TyOUS0XgyWH2sQEJVWrcLCOQ",
      "include_colab_link": true
    },
    "kernelspec": {
      "name": "python3",
      "display_name": "Python 3"
    },
    "language_info": {
      "name": "python"
    }
  },
  "cells": [
    {
      "cell_type": "markdown",
      "metadata": {
        "id": "view-in-github",
        "colab_type": "text"
      },
      "source": [
        "<a href=\"https://colab.research.google.com/github/MudasirIrshad/Agentic_AI_Panaversity_Course/blob/main/PROJECT_DocumentBoot_RAG_FunctionCalling.ipynb\" target=\"_parent\"><img src=\"https://colab.research.google.com/assets/colab-badge.svg\" alt=\"Open In Colab\"/></a>"
      ]
    },
    {
      "cell_type": "code",
      "execution_count": 14,
      "metadata": {
        "colab": {
          "base_uri": "https://localhost:8080/"
        },
        "id": "PDK9oQ4dJvjL",
        "outputId": "313d2b0f-08a5-4b13-b7c4-50b8b2efcc60"
      },
      "outputs": [
        {
          "output_type": "stream",
          "name": "stdout",
          "text": [
            "\u001b[?25l   \u001b[90m━━━━━━━━━━━━━━━━━━━━━━━━━━━━━━━━━━━━━━━━\u001b[0m \u001b[32m0.0/310.5 kB\u001b[0m \u001b[31m?\u001b[0m eta \u001b[36m-:--:--\u001b[0m\r\u001b[2K   \u001b[91m━━━━━━━━━━━━━━━━━━━\u001b[0m\u001b[91m╸\u001b[0m\u001b[90m━━━━━━━━━━━━━━━━━━━━\u001b[0m \u001b[32m153.6/310.5 kB\u001b[0m \u001b[31m4.8 MB/s\u001b[0m eta \u001b[36m0:00:01\u001b[0m\r\u001b[2K   \u001b[90m━━━━━━━━━━━━━━━━━━━━━━━━━━━━━━━━━━━━━━━━\u001b[0m \u001b[32m310.5/310.5 kB\u001b[0m \u001b[31m5.2 MB/s\u001b[0m eta \u001b[36m0:00:00\u001b[0m\n",
            "\u001b[?25h"
          ]
        },
        {
          "output_type": "stream",
          "name": "stderr",
          "text": [
            "/usr/lib/python3.11/pathlib.py:69: RuntimeWarning: coroutine 'main' was never awaited\n",
            "  for x in reversed(rel.split(sep)):\n",
            "RuntimeWarning: Enable tracemalloc to get the object allocation traceback\n"
          ]
        }
      ],
      "source": [
        "%pip install -qU pypdf"
      ]
    },
    {
      "cell_type": "code",
      "source": [
        "from google.colab import files\n",
        "pdf = files.upload()"
      ],
      "metadata": {
        "colab": {
          "base_uri": "https://localhost:8080/",
          "height": 74
        },
        "id": "vOF6DWqHKTGu",
        "outputId": "9e1c1d7d-005b-4d1a-f61a-002966c38c65"
      },
      "execution_count": 17,
      "outputs": [
        {
          "output_type": "display_data",
          "data": {
            "text/plain": [
              "<IPython.core.display.HTML object>"
            ],
            "text/html": [
              "\n",
              "     <input type=\"file\" id=\"files-48bf7f77-272c-4855-b3f0-04e38678f70d\" name=\"files[]\" multiple disabled\n",
              "        style=\"border:none\" />\n",
              "     <output id=\"result-48bf7f77-272c-4855-b3f0-04e38678f70d\">\n",
              "      Upload widget is only available when the cell has been executed in the\n",
              "      current browser session. Please rerun this cell to enable.\n",
              "      </output>\n",
              "      <script>// Copyright 2017 Google LLC\n",
              "//\n",
              "// Licensed under the Apache License, Version 2.0 (the \"License\");\n",
              "// you may not use this file except in compliance with the License.\n",
              "// You may obtain a copy of the License at\n",
              "//\n",
              "//      http://www.apache.org/licenses/LICENSE-2.0\n",
              "//\n",
              "// Unless required by applicable law or agreed to in writing, software\n",
              "// distributed under the License is distributed on an \"AS IS\" BASIS,\n",
              "// WITHOUT WARRANTIES OR CONDITIONS OF ANY KIND, either express or implied.\n",
              "// See the License for the specific language governing permissions and\n",
              "// limitations under the License.\n",
              "\n",
              "/**\n",
              " * @fileoverview Helpers for google.colab Python module.\n",
              " */\n",
              "(function(scope) {\n",
              "function span(text, styleAttributes = {}) {\n",
              "  const element = document.createElement('span');\n",
              "  element.textContent = text;\n",
              "  for (const key of Object.keys(styleAttributes)) {\n",
              "    element.style[key] = styleAttributes[key];\n",
              "  }\n",
              "  return element;\n",
              "}\n",
              "\n",
              "// Max number of bytes which will be uploaded at a time.\n",
              "const MAX_PAYLOAD_SIZE = 100 * 1024;\n",
              "\n",
              "function _uploadFiles(inputId, outputId) {\n",
              "  const steps = uploadFilesStep(inputId, outputId);\n",
              "  const outputElement = document.getElementById(outputId);\n",
              "  // Cache steps on the outputElement to make it available for the next call\n",
              "  // to uploadFilesContinue from Python.\n",
              "  outputElement.steps = steps;\n",
              "\n",
              "  return _uploadFilesContinue(outputId);\n",
              "}\n",
              "\n",
              "// This is roughly an async generator (not supported in the browser yet),\n",
              "// where there are multiple asynchronous steps and the Python side is going\n",
              "// to poll for completion of each step.\n",
              "// This uses a Promise to block the python side on completion of each step,\n",
              "// then passes the result of the previous step as the input to the next step.\n",
              "function _uploadFilesContinue(outputId) {\n",
              "  const outputElement = document.getElementById(outputId);\n",
              "  const steps = outputElement.steps;\n",
              "\n",
              "  const next = steps.next(outputElement.lastPromiseValue);\n",
              "  return Promise.resolve(next.value.promise).then((value) => {\n",
              "    // Cache the last promise value to make it available to the next\n",
              "    // step of the generator.\n",
              "    outputElement.lastPromiseValue = value;\n",
              "    return next.value.response;\n",
              "  });\n",
              "}\n",
              "\n",
              "/**\n",
              " * Generator function which is called between each async step of the upload\n",
              " * process.\n",
              " * @param {string} inputId Element ID of the input file picker element.\n",
              " * @param {string} outputId Element ID of the output display.\n",
              " * @return {!Iterable<!Object>} Iterable of next steps.\n",
              " */\n",
              "function* uploadFilesStep(inputId, outputId) {\n",
              "  const inputElement = document.getElementById(inputId);\n",
              "  inputElement.disabled = false;\n",
              "\n",
              "  const outputElement = document.getElementById(outputId);\n",
              "  outputElement.innerHTML = '';\n",
              "\n",
              "  const pickedPromise = new Promise((resolve) => {\n",
              "    inputElement.addEventListener('change', (e) => {\n",
              "      resolve(e.target.files);\n",
              "    });\n",
              "  });\n",
              "\n",
              "  const cancel = document.createElement('button');\n",
              "  inputElement.parentElement.appendChild(cancel);\n",
              "  cancel.textContent = 'Cancel upload';\n",
              "  const cancelPromise = new Promise((resolve) => {\n",
              "    cancel.onclick = () => {\n",
              "      resolve(null);\n",
              "    };\n",
              "  });\n",
              "\n",
              "  // Wait for the user to pick the files.\n",
              "  const files = yield {\n",
              "    promise: Promise.race([pickedPromise, cancelPromise]),\n",
              "    response: {\n",
              "      action: 'starting',\n",
              "    }\n",
              "  };\n",
              "\n",
              "  cancel.remove();\n",
              "\n",
              "  // Disable the input element since further picks are not allowed.\n",
              "  inputElement.disabled = true;\n",
              "\n",
              "  if (!files) {\n",
              "    return {\n",
              "      response: {\n",
              "        action: 'complete',\n",
              "      }\n",
              "    };\n",
              "  }\n",
              "\n",
              "  for (const file of files) {\n",
              "    const li = document.createElement('li');\n",
              "    li.append(span(file.name, {fontWeight: 'bold'}));\n",
              "    li.append(span(\n",
              "        `(${file.type || 'n/a'}) - ${file.size} bytes, ` +\n",
              "        `last modified: ${\n",
              "            file.lastModifiedDate ? file.lastModifiedDate.toLocaleDateString() :\n",
              "                                    'n/a'} - `));\n",
              "    const percent = span('0% done');\n",
              "    li.appendChild(percent);\n",
              "\n",
              "    outputElement.appendChild(li);\n",
              "\n",
              "    const fileDataPromise = new Promise((resolve) => {\n",
              "      const reader = new FileReader();\n",
              "      reader.onload = (e) => {\n",
              "        resolve(e.target.result);\n",
              "      };\n",
              "      reader.readAsArrayBuffer(file);\n",
              "    });\n",
              "    // Wait for the data to be ready.\n",
              "    let fileData = yield {\n",
              "      promise: fileDataPromise,\n",
              "      response: {\n",
              "        action: 'continue',\n",
              "      }\n",
              "    };\n",
              "\n",
              "    // Use a chunked sending to avoid message size limits. See b/62115660.\n",
              "    let position = 0;\n",
              "    do {\n",
              "      const length = Math.min(fileData.byteLength - position, MAX_PAYLOAD_SIZE);\n",
              "      const chunk = new Uint8Array(fileData, position, length);\n",
              "      position += length;\n",
              "\n",
              "      const base64 = btoa(String.fromCharCode.apply(null, chunk));\n",
              "      yield {\n",
              "        response: {\n",
              "          action: 'append',\n",
              "          file: file.name,\n",
              "          data: base64,\n",
              "        },\n",
              "      };\n",
              "\n",
              "      let percentDone = fileData.byteLength === 0 ?\n",
              "          100 :\n",
              "          Math.round((position / fileData.byteLength) * 100);\n",
              "      percent.textContent = `${percentDone}% done`;\n",
              "\n",
              "    } while (position < fileData.byteLength);\n",
              "  }\n",
              "\n",
              "  // All done.\n",
              "  yield {\n",
              "    response: {\n",
              "      action: 'complete',\n",
              "    }\n",
              "  };\n",
              "}\n",
              "\n",
              "scope.google = scope.google || {};\n",
              "scope.google.colab = scope.google.colab || {};\n",
              "scope.google.colab._files = {\n",
              "  _uploadFiles,\n",
              "  _uploadFilesContinue,\n",
              "};\n",
              "})(self);\n",
              "</script> "
            ]
          },
          "metadata": {}
        },
        {
          "output_type": "stream",
          "name": "stdout",
          "text": [
            "Saving AI_Trends.pdf to AI_Trends.pdf\n"
          ]
        }
      ]
    },
    {
      "cell_type": "code",
      "source": [
        "!pip install -qU langchain_community"
      ],
      "metadata": {
        "colab": {
          "base_uri": "https://localhost:8080/"
        },
        "id": "g39_hJRfKjct",
        "outputId": "949bdab9-7f48-4b8f-e771-3052fe11c148"
      },
      "execution_count": 2,
      "outputs": [
        {
          "output_type": "stream",
          "name": "stdout",
          "text": [
            "\u001b[2K   \u001b[90m━━━━━━━━━━━━━━━━━━━━━━━━━━━━━━━━━━━━━━━━\u001b[0m \u001b[32m2.5/2.5 MB\u001b[0m \u001b[31m30.2 MB/s\u001b[0m eta \u001b[36m0:00:00\u001b[0m\n",
            "\u001b[2K   \u001b[90m━━━━━━━━━━━━━━━━━━━━━━━━━━━━━━━━━━━━━━━━\u001b[0m \u001b[32m45.2/45.2 kB\u001b[0m \u001b[31m2.5 MB/s\u001b[0m eta \u001b[36m0:00:00\u001b[0m\n",
            "\u001b[2K   \u001b[90m━━━━━━━━━━━━━━━━━━━━━━━━━━━━━━━━━━━━━━━━\u001b[0m \u001b[32m50.9/50.9 kB\u001b[0m \u001b[31m2.9 MB/s\u001b[0m eta \u001b[36m0:00:00\u001b[0m\n",
            "\u001b[?25h"
          ]
        }
      ]
    },
    {
      "cell_type": "code",
      "source": [
        "from langchain_community.document_loaders import PyPDFLoader\n",
        "loader = PyPDFLoader(\"/content/AI_Trends.pdf\")\n",
        "page = []\n",
        "async for i in loader.alazy_load():\n",
        "  page.append(i)\n"
      ],
      "metadata": {
        "id": "h4u9fEN9LH5Q"
      },
      "execution_count": 22,
      "outputs": []
    },
    {
      "cell_type": "code",
      "source": [
        "print(f\"{page[20].metadata}\\n\")\n",
        "print(page[20].page_content)"
      ],
      "metadata": {
        "colab": {
          "base_uri": "https://localhost:8080/"
        },
        "id": "MQAyut2lMADh",
        "outputId": "de766089-09be-4fd9-e369-fafde1a51368"
      },
      "execution_count": 28,
      "outputs": [
        {
          "output_type": "stream",
          "name": "stdout",
          "text": [
            "New Trends in the Use of Artificial Intelligence for the Industry 4.0\n",
            "6\n",
            "In contrast, technological projects depend on the result produced, mainly due to the \n",
            "diversity of tasks [24]. Furthermore, although complexity is usually expressed by \n",
            "the means of cost, duration, or people involved, these criteria do not correlate well \n",
            "with how they are managed [25].\n",
            "In summary, complex projects consist of ambiguity and uncertainty, interde-\n",
            "pendency, nonlinearity, unique local conditions, autonomy, emergent behaviors, \n",
            "and unfixed boundaries. According to these properties, projects can be classified \n",
            "as simple, complicated, chaotic, and complex [26]. On the other hand, complex \n",
            "projects are also influenced by significant external changes [27], from misaligned \n",
            "stakeholders’ view of success, in which current tools and decision processes are \n",
            "unsuitable for analyze it. To respond positively to this complexity, it is necessary to \n",
            "imply both organizations and practitioners [28].\n",
            "It can be noticed that complex projects undertaken by traditional methods, prac-\n",
            "tices, and frameworks usually result inadequate in terms of scale, rate of change, \n",
            "heterogeneity, multiple pathways, and ambiguous objectives [29]. In this context, \n",
            "project management decouples and modularizes the complexity, freezing its com-\n",
            "ponents and controlling the variability associated [30]. In addition, the understand-\n",
            "ing of project complexity helps to identify problems, develop the business case and \n",
            "choice processes, and improve managerial capacities [31].\n",
            "Increasing competitiveness on product quality, cost, and delivery while main-\n",
            "taining flexibility during the whole project (including design, engineering, and \n",
            "production) are a few of the challenges that many organizations currently encoun-\n",
            "ter in the shipbuilding industry [32]. In settings of complex projects (as those from \n",
            "shipbuilding sector), the ability to make proper decisions when solving problems \n",
            "is essential in the production efficiency of the derived operations. In this context, \n",
            "shipyards must face these challenges from a combination of constraints, among \n",
            "which the technical level of their production facilities and the practices, techniques, \n",
            "and tools at the disposal of their staff stand out [33].\n",
            "3.2 Lean manufacturing in the shipbuilding sector\n",
            "Lean manufacturing has been the most remarkable methodology for improving \n",
            "the operational performance in manufacturing organizations in the last two decades \n",
            "[34], increasing their productivity and decreasing their costs [35]. Lean manufac-\n",
            "turing helps industrial companies to transform themselves in order to add higher \n",
            "value, due to the use of a considerable set of tools, methodologies, and procedures \n",
            "focused on boost their performance [36], waste reduction, and better communica-\n",
            "tion. This combination of information acquisition and management with new \n",
            "design and manufacturing techniques allows companies to redirect towards new \n",
            "trends that respond quickly to market changes [37]. If new features must be intro-\n",
            "duced to meet these demands, companies cannot compromise their efficiency. In \n",
            "fact, they will try to improve it despite these challenges [38].\n",
            "There are different points of view in the literature related to how lean manu-\n",
            "facturing and Industry 4.0 interact together to influence the performance of \n",
            "processes involved. Some studies suggest that lean manufacturing is a mediator \n",
            "of their relationship [39, 40], while other suggests that Industry 4.0 is a modera -\n",
            "tor [41]. Others investigate their supportive effects without hypothesizing which \n",
            "of the two is the moderator [42, 43], and even other studies emphasized the \n",
            "interaction between them in many contexts, depending on industry and com-\n",
            "pany size [44].\n",
            "If shipbuilding manufacturers want to operate with lean production principles, \n",
            "they must establish the shipbuilding project management plan based on optimized \n",
            "7\n",
            "Trends of Digital Transformation in the Shipbuilding Sector\n",
            "DOI: http://dx.doi.org/10.5772/intechopen.91164\n",
            "production and overall resource balance, decomposing product tasks according to \n",
            "zone, stage, and type and clarifying the relationship between tasks and resources \n",
            "[45]. In this context, Industry 4.0 opportunities are used as a methodological \n",
            "and strategic tool to accelerate the engagement of shipbuilding suppliers. In these \n",
            "cases, lean tools mostly aim to introduce and motivate the implementation of these \n",
            "concepts into practice through the entire supply chain, whereby the objectives are \n",
            "needed to be fully understood and cross-functional teams are expected to be active \n",
            "in the value stream creation [46]. However, other requirements are needed, as \n",
            "design and assembly building methods [47].\n",
            "If arbitrariness and uncertainty (affecting quality, production, operation, and \n",
            "logistics) are not faced, low productivity and management efficiency are the most \n",
            "probable result. To successfully address these challenges, shipbuilding companies \n",
            "must enhance their technology and management innovation, as well as actively \n",
            "adopt advanced production systems, for improving their efficiency [48].\n",
            "3.3 Industry 4.0 in the shipbuilding sector\n",
            "Industry 4.0 is a vital evolution for the survival of any industrial organization. \n",
            "Particularly those which target global markets, pursue a strategic distinction that \n",
            "supports the necessary excellence in their deliverables [49]. This implies a top-down \n",
            "transformation that applies to a wide range of methods, tools, and techniques \n",
            "involved in production management, improved processes and workplaces, and \n",
            "developing staff’ s skills [50]. Industry 4.0 modernizes the organizational processes \n",
            "and makes them more efficient. This involves the entire company, from operational \n",
            "to strategic management. In this competitive context, industrial companies need \n",
            "to redesign their strategies, enabling not only better resource allocation but also \n",
            "infrastructure investment and quality systems [51].\n",
            "Industrial companies aiming to reach flexible manufacturing, with very low \n",
            "waste and high quality in their deliverables, are constantly evolving, in order to set \n",
            "them apart from their competitors. In that sense, they try to get higher levels of \n",
            "efficiency and productivity, associating new technologies within their processes. \n",
            "This use of disruptive methodologies helps them to create value, connecting and \n",
            "sharing information between companies and customers [52] and increasing also \n",
            "their applied innovation to offer complete solutions [53].\n",
            "Among the Industry 4.0’ s main points of interest for the shipbuilding industry \n",
            "are artificial intelligence (pattern recognition, process automation, simulation, \n",
            "etc.), compatibility systems and task reassignment (occupational health and safety, \n",
            "decision-making, etc.), virtual and augmented reality, additive manufacturing and \n",
            "Internet of things, and more, specifically, the automatic generation of timelines, the \n",
            "creation of mathematical analysis models and evaluation of production processes, \n",
            "the integration of high-quality algorithms with computer-aided design (CAD) and \n",
            "with product life cycle management systems (PLM). In this context, the digital \n",
            "transformation of the shipbuilding industry optimizes the production and the \n",
            "operational efficiency, through the analysis and integration of storing, connecting, \n",
            "and organizing the information generated by different sources [17 , 54].\n",
            "This necessary transformation has led the shipbuilding sector to adopt the con-\n",
            "cept of Industry 4.0. The concept of “Shipyard 4.0” [55] is described as the result \n",
            "of the application of the Industry 4.0 to this sector. The Shipyard 4.0 involves deep \n",
            "changes in the shipyard production system including facilities, advanced product \n",
            "design, management changes, and the implementation of the digital technologies. \n",
            "Therefore, the Shipyard 4.0 initiative has to be the response of the shipbuilding \n",
            "sector to the digital transformation.\n"
          ]
        }
      ]
    },
    {
      "cell_type": "code",
      "source": [
        "%pip install --upgrade --quiet  langchain-google-genai"
      ],
      "metadata": {
        "colab": {
          "base_uri": "https://localhost:8080/"
        },
        "id": "SolSwcEVRujU",
        "outputId": "0480afdb-b498-4f01-83a9-e626d3f77ada"
      },
      "execution_count": 29,
      "outputs": [
        {
          "output_type": "stream",
          "name": "stdout",
          "text": [
            "\u001b[?25l   \u001b[90m━━━━━━━━━━━━━━━━━━━━━━━━━━━━━━━━━━━━━━━━\u001b[0m \u001b[32m0.0/49.4 kB\u001b[0m \u001b[31m?\u001b[0m eta \u001b[36m-:--:--\u001b[0m\r\u001b[2K   \u001b[90m━━━━━━━━━━━━━━━━━━━━━━━━━━━━━━━━━━━━━━━━\u001b[0m \u001b[32m49.4/49.4 kB\u001b[0m \u001b[31m1.9 MB/s\u001b[0m eta \u001b[36m0:00:00\u001b[0m\n",
            "\u001b[?25h\u001b[?25l   \u001b[90m━━━━━━━━━━━━━━━━━━━━━━━━━━━━━━━━━━━━━━━━\u001b[0m \u001b[32m0.0/1.4 MB\u001b[0m \u001b[31m?\u001b[0m eta \u001b[36m-:--:--\u001b[0m\r\u001b[2K   \u001b[91m━━━━━━━━━━━━━━━━━━━━━━━━━\u001b[0m\u001b[90m╺\u001b[0m\u001b[90m━━━━━━━━━━━━━━\u001b[0m \u001b[32m0.9/1.4 MB\u001b[0m \u001b[31m26.6 MB/s\u001b[0m eta \u001b[36m0:00:01\u001b[0m\r\u001b[2K   \u001b[90m━━━━━━━━━━━━━━━━━━━━━━━━━━━━━━━━━━━━━━━━\u001b[0m \u001b[32m1.4/1.4 MB\u001b[0m \u001b[31m21.5 MB/s\u001b[0m eta \u001b[36m0:00:00\u001b[0m\n",
            "\u001b[?25h\u001b[31mERROR: pip's dependency resolver does not currently take into account all the packages that are installed. This behaviour is the source of the following dependency conflicts.\n",
            "google-generativeai 0.8.5 requires google-ai-generativelanguage==0.6.15, but you have google-ai-generativelanguage 0.6.18 which is incompatible.\u001b[0m\u001b[31m\n",
            "\u001b[0m"
          ]
        }
      ]
    }
  ]
}