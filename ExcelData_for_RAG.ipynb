{
  "nbformat": 4,
  "nbformat_minor": 0,
  "metadata": {
    "colab": {
      "provenance": [],
      "authorship_tag": "ABX9TyMvC5xlnKQ2xE2D3X888Tye",
      "include_colab_link": true
    },
    "kernelspec": {
      "name": "python3",
      "display_name": "Python 3"
    },
    "language_info": {
      "name": "python"
    }
  },
  "cells": [
    {
      "cell_type": "markdown",
      "metadata": {
        "id": "view-in-github",
        "colab_type": "text"
      },
      "source": [
        "<a href=\"https://colab.research.google.com/github/MudasirIrshad/Agentic_AI_Panaversity_Course/blob/main/ExcelData_for_RAG.ipynb\" target=\"_parent\"><img src=\"https://colab.research.google.com/assets/colab-badge.svg\" alt=\"Open In Colab\"/></a>"
      ]
    },
    {
      "cell_type": "code",
      "execution_count": 1,
      "metadata": {
        "colab": {
          "base_uri": "https://localhost:8080/"
        },
        "id": "IxvhApz12CaY",
        "outputId": "475d7277-2c80-4561-f7d8-09a7d4cbe8f1"
      },
      "outputs": [
        {
          "output_type": "stream",
          "name": "stdout",
          "text": [
            "\u001b[2K     \u001b[90m━━━━━━━━━━━━━━━━━━━━━━━━━━━━━━━━━━━━━━━\u001b[0m \u001b[32m981.5/981.5 kB\u001b[0m \u001b[31m2.8 MB/s\u001b[0m eta \u001b[36m0:00:00\u001b[0m\n",
            "\u001b[?25h  Preparing metadata (setup.py) ... \u001b[?25l\u001b[?25hdone\n",
            "\u001b[2K   \u001b[90m━━━━━━━━━━━━━━━━━━━━━━━━━━━━━━━━━━━━━━━━\u001b[0m \u001b[32m2.5/2.5 MB\u001b[0m \u001b[31m18.6 MB/s\u001b[0m eta \u001b[36m0:00:00\u001b[0m\n",
            "\u001b[2K   \u001b[90m━━━━━━━━━━━━━━━━━━━━━━━━━━━━━━━━━━━━━━━━\u001b[0m \u001b[32m1.8/1.8 MB\u001b[0m \u001b[31m54.1 MB/s\u001b[0m eta \u001b[36m0:00:00\u001b[0m\n",
            "\u001b[2K   \u001b[90m━━━━━━━━━━━━━━━━━━━━━━━━━━━━━━━━━━━━━━━━\u001b[0m \u001b[32m45.2/45.2 kB\u001b[0m \u001b[31m3.4 MB/s\u001b[0m eta \u001b[36m0:00:00\u001b[0m\n",
            "\u001b[2K   \u001b[90m━━━━━━━━━━━━━━━━━━━━━━━━━━━━━━━━━━━━━━━━\u001b[0m \u001b[32m590.6/590.6 kB\u001b[0m \u001b[31m27.4 MB/s\u001b[0m eta \u001b[36m0:00:00\u001b[0m\n",
            "\u001b[2K   \u001b[90m━━━━━━━━━━━━━━━━━━━━━━━━━━━━━━━━━━━━━━━━\u001b[0m \u001b[32m167.6/167.6 kB\u001b[0m \u001b[31m15.8 MB/s\u001b[0m eta \u001b[36m0:00:00\u001b[0m\n",
            "\u001b[2K   \u001b[90m━━━━━━━━━━━━━━━━━━━━━━━━━━━━━━━━━━━━━━━━\u001b[0m \u001b[32m3.1/3.1 MB\u001b[0m \u001b[31m61.0 MB/s\u001b[0m eta \u001b[36m0:00:00\u001b[0m\n",
            "\u001b[2K   \u001b[90m━━━━━━━━━━━━━━━━━━━━━━━━━━━━━━━━━━━━━━━━\u001b[0m \u001b[32m211.0/211.0 kB\u001b[0m \u001b[31m16.4 MB/s\u001b[0m eta \u001b[36m0:00:00\u001b[0m\n",
            "\u001b[2K   \u001b[90m━━━━━━━━━━━━━━━━━━━━━━━━━━━━━━━━━━━━━━━━\u001b[0m \u001b[32m50.9/50.9 kB\u001b[0m \u001b[31m4.0 MB/s\u001b[0m eta \u001b[36m0:00:00\u001b[0m\n",
            "\u001b[2K   \u001b[90m━━━━━━━━━━━━━━━━━━━━━━━━━━━━━━━━━━━━━━━━\u001b[0m \u001b[32m313.2/313.2 kB\u001b[0m \u001b[31m23.3 MB/s\u001b[0m eta \u001b[36m0:00:00\u001b[0m\n",
            "\u001b[2K   \u001b[90m━━━━━━━━━━━━━━━━━━━━━━━━━━━━━━━━━━━━━━━━\u001b[0m \u001b[32m114.6/114.6 kB\u001b[0m \u001b[31m9.3 MB/s\u001b[0m eta \u001b[36m0:00:00\u001b[0m\n",
            "\u001b[?25h  Building wheel for langdetect (setup.py) ... \u001b[?25l\u001b[?25hdone\n"
          ]
        }
      ],
      "source": [
        "%pip install --upgrade --quiet langchain-community unstructured openpyxl"
      ]
    },
    {
      "cell_type": "code",
      "source": [
        "!pip install msoffcrypto-tool"
      ],
      "metadata": {
        "colab": {
          "base_uri": "https://localhost:8080/"
        },
        "id": "CKMtPGw15Mvk",
        "outputId": "960198f2-9ba6-46b7-b3fa-179c2c5b72c4"
      },
      "execution_count": 15,
      "outputs": [
        {
          "output_type": "stream",
          "name": "stdout",
          "text": [
            "Collecting msoffcrypto-tool\n",
            "  Downloading msoffcrypto_tool-5.4.2-py3-none-any.whl.metadata (10 kB)\n",
            "Requirement already satisfied: cryptography>=39.0 in /usr/local/lib/python3.11/dist-packages (from msoffcrypto-tool) (43.0.3)\n",
            "Requirement already satisfied: olefile>=0.46 in /usr/local/lib/python3.11/dist-packages (from msoffcrypto-tool) (0.47)\n",
            "Requirement already satisfied: cffi>=1.12 in /usr/local/lib/python3.11/dist-packages (from cryptography>=39.0->msoffcrypto-tool) (1.17.1)\n",
            "Requirement already satisfied: pycparser in /usr/local/lib/python3.11/dist-packages (from cffi>=1.12->cryptography>=39.0->msoffcrypto-tool) (2.22)\n",
            "Downloading msoffcrypto_tool-5.4.2-py3-none-any.whl (48 kB)\n",
            "\u001b[2K   \u001b[90m━━━━━━━━━━━━━━━━━━━━━━━━━━━━━━━━━━━━━━━━\u001b[0m \u001b[32m48.7/48.7 kB\u001b[0m \u001b[31m385.0 kB/s\u001b[0m eta \u001b[36m0:00:00\u001b[0m\n",
            "\u001b[?25hInstalling collected packages: msoffcrypto-tool\n",
            "Successfully installed msoffcrypto-tool-5.4.2\n"
          ]
        }
      ]
    },
    {
      "cell_type": "code",
      "source": [
        "\n",
        "from langchain_core.documents import Document\n",
        "import pandas as pd\n",
        "df = pd.read_excel(\"/content/vector_practice_dataset.xlsx\")\n",
        "\n",
        "data = df['sentence']\n",
        "\n",
        "documents = []\n",
        "for i in data:\n",
        "  documents.append(Document(page_content=i, metadata={'source': 'excel'}))\n"
      ],
      "metadata": {
        "id": "ui8nzeTO6ZNl"
      },
      "execution_count": 65,
      "outputs": []
    },
    {
      "cell_type": "code",
      "source": [
        "%pip install -qU langchain-pinecone langchain-google-genai"
      ],
      "metadata": {
        "id": "cNlTV61D2tm0"
      },
      "execution_count": 44,
      "outputs": []
    },
    {
      "cell_type": "code",
      "source": [
        "from google.colab import userdata\n",
        "pinecone_api_key = userdata.get(\"PINECONE_API_KEY\")\n"
      ],
      "metadata": {
        "id": "y6-ps0ch4OgF"
      },
      "execution_count": 66,
      "outputs": []
    },
    {
      "cell_type": "code",
      "source": [
        "from pinecone import Pinecone\n",
        "pc = Pinecone(api_key=pinecone_api_key)"
      ],
      "metadata": {
        "id": "oJN314q6ACGr"
      },
      "execution_count": 67,
      "outputs": []
    },
    {
      "cell_type": "code",
      "source": [
        "from pinecone import ServerlessSpec\n",
        "\n",
        "index_name = \"rag-using-excel-data\"  # change if desired\n",
        "\n",
        "if not pc.has_index(index_name):\n",
        "    pc.create_index(\n",
        "        name=index_name,\n",
        "        dimension=768,\n",
        "        metric=\"cosine\",\n",
        "        spec=ServerlessSpec(cloud=\"aws\", region=\"us-east-1\"),\n",
        "    )\n",
        "else:\n",
        "    print(f\"Index {index_name} already exists. Skipping creation.\")\n",
        "\n",
        "index = pc.Index(index_name)"
      ],
      "metadata": {
        "id": "hvSU2d03BH54"
      },
      "execution_count": 68,
      "outputs": []
    },
    {
      "cell_type": "code",
      "source": [
        "from langchain_google_genai import GoogleGenerativeAIEmbeddings\n",
        "import os\n",
        "os.environ['GOOGLE_API_KEY'] = userdata.get('GOOGLE_API_KEY')\n",
        "embeddings = GoogleGenerativeAIEmbeddings(model=\"models/embedding-001\")\n"
      ],
      "metadata": {
        "id": "XXDPPJsuA-mt"
      },
      "execution_count": 72,
      "outputs": []
    },
    {
      "cell_type": "code",
      "source": [
        "from langchain_pinecone import PineconeVectorStore\n",
        "vector_store = PineconeVectorStore(index=index, embedding=embeddings)"
      ],
      "metadata": {
        "id": "NrBc4ATFBs6p"
      },
      "execution_count": 73,
      "outputs": []
    },
    {
      "cell_type": "code",
      "source": [
        "from uuid import uuid4\n",
        "uuids = [str(uuid4()) for _ in range (len(documents))]\n",
        "vector_store.add_documents(documents=documents, ids=uuids)"
      ],
      "metadata": {
        "colab": {
          "base_uri": "https://localhost:8080/"
        },
        "id": "QpN6JcJqB17Y",
        "outputId": "309415af-14fe-4e0c-d1d1-31082077cd6b"
      },
      "execution_count": 74,
      "outputs": [
        {
          "output_type": "execute_result",
          "data": {
            "text/plain": [
              "['e7e7dd30-6e9b-4560-be7f-57c0a7cc6bd4',\n",
              " '7e607090-b366-4919-a724-092796fa7848',\n",
              " '19139cb6-76aa-446b-bd80-4fcf54cb9e01',\n",
              " '40d64065-3220-437f-8c9a-7e28a2947c46',\n",
              " 'b8c31331-bf9e-4b12-ac65-7d019a4e16f7',\n",
              " '81905487-5254-45f8-b248-2e0ff909de83',\n",
              " 'ef3c9cd1-b4b7-478f-8531-a958ea115941',\n",
              " '79a89116-35e0-4fae-a5c1-1d1a12a7afd4',\n",
              " '8076f077-4f38-4fde-b28f-4d2766064735',\n",
              " '17a99190-6ee7-49b4-b404-2ea3b3235f48',\n",
              " 'ae5fc669-44cf-4947-89ea-4cd4aa61db3e',\n",
              " '2e8a82e6-e4f3-4629-861f-74d1db0374c3',\n",
              " '2659bc98-5d5a-42ff-aedd-e40a0c8d1741',\n",
              " '611ace07-f5f3-4179-bab1-d1f731ae8e6b',\n",
              " '4b35cbe6-255a-4baf-84a0-2b510e856471',\n",
              " '3a2c55ef-3189-4a43-a245-9d0ff207235d',\n",
              " '1cda4b83-0cf4-4d05-b82e-9f0481f1ddc8',\n",
              " 'c9e0db07-0eea-4a56-b2fa-3e2bd89d7b09',\n",
              " 'a8f34300-b29e-465b-91db-7725e1a7d7c2',\n",
              " '92aa8419-1b30-4724-acad-b76535b20a6b',\n",
              " 'e3a76790-d679-43c7-859c-7bdc429947f4',\n",
              " '3be10656-6a81-41b8-a4e5-b3f6cde59f42',\n",
              " 'ec065f59-ec06-4245-acad-5cf49fcdbfb7',\n",
              " '405f49dd-b8bc-4864-8b3d-c3cacbd07706',\n",
              " 'bddf3f61-6fde-4f7c-bd20-520b63c8a54c',\n",
              " 'e5d3b5d2-4472-4eb3-a3f2-1bd8fc986558',\n",
              " 'a19aaf68-2dd1-4dda-b068-05fbf12cb3f5',\n",
              " '53bf49f6-1b50-4a1c-8629-56ff7cca843f',\n",
              " '30eecd19-c310-45ab-81a1-c15074b26fa2',\n",
              " '9eea4c2c-28ce-44d3-9f6c-dc9c06a76493']"
            ]
          },
          "metadata": {},
          "execution_count": 74
        }
      ]
    },
    {
      "cell_type": "code",
      "source": [
        "result = vector_store.similarity_search(\"Langchain\", k=2)\n",
        "\n",
        "result"
      ],
      "metadata": {
        "colab": {
          "base_uri": "https://localhost:8080/"
        },
        "id": "FuVXjwSAFvz7",
        "outputId": "55b841ed-c2ae-405f-8c54-c5c6cefbb933"
      },
      "execution_count": 76,
      "outputs": [
        {
          "output_type": "execute_result",
          "data": {
            "text/plain": [
              "[Document(id='e7e7dd30-6e9b-4560-be7f-57c0a7cc6bd4', metadata={'source': 'excel'}, page_content='LangChain makes it easy to build LLM-powered applications.'),\n",
              " Document(id='b8c31331-bf9e-4b12-ac65-7d019a4e16f7', metadata={'source': 'excel'}, page_content='Vector embeddings capture semantic meaning of text.')]"
            ]
          },
          "metadata": {},
          "execution_count": 76
        }
      ]
    }
  ]
}