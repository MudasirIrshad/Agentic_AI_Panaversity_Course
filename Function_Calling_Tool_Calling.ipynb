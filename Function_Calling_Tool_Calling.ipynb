{
  "nbformat": 4,
  "nbformat_minor": 0,
  "metadata": {
    "colab": {
      "provenance": [],
      "authorship_tag": "ABX9TyPR3u01LfBrlRO/ExO3p0S2",
      "include_colab_link": true
    },
    "kernelspec": {
      "name": "python3",
      "display_name": "Python 3"
    },
    "language_info": {
      "name": "python"
    }
  },
  "cells": [
    {
      "cell_type": "markdown",
      "metadata": {
        "id": "view-in-github",
        "colab_type": "text"
      },
      "source": [
        "<a href=\"https://colab.research.google.com/github/MudasirIrshad/Agentic_AI_Panaversity_Course/blob/main/Function_Calling_Tool_Calling.ipynb\" target=\"_parent\"><img src=\"https://colab.research.google.com/assets/colab-badge.svg\" alt=\"Open In Colab\"/></a>"
      ]
    },
    {
      "cell_type": "code",
      "execution_count": 72,
      "metadata": {
        "id": "Q7wH0XsKDin8"
      },
      "outputs": [],
      "source": [
        "!pip install -qU \"google-generativeai\""
      ]
    },
    {
      "cell_type": "code",
      "source": [
        "from google.colab import userdata\n",
        "import google.generativeai as genai\n",
        "\n",
        "import os\n",
        "os.environ['GOOGLE_API_KEY'] = userdata.get('GOOGLE_API_KEY')"
      ],
      "metadata": {
        "id": "n9srkWDc_pUP"
      },
      "execution_count": null,
      "outputs": []
    },
    {
      "cell_type": "code",
      "source": [
        "genai.configure()"
      ],
      "metadata": {
        "id": "_2yJnmfbAHUS"
      },
      "execution_count": null,
      "outputs": []
    },
    {
      "cell_type": "code",
      "source": [
        "def enable_lights():\n",
        "  \"\"\"Turn on the lighting system\"\"\"\n",
        "  print(\"LIGHTBOT: Lights enabled.\")\n",
        "\n",
        "def set_light_color(rgb_hex: str):\n",
        "  \"\"\"Set the light color, lights must be enabled for this to work.\"\"\"\n",
        "  print(f\"LIGHTBOT: Lights set to {rgb_hex}.\")\n",
        "\n",
        "def disable_lights():\n",
        "  \"\"\"Turn off the lighting system\"\"\"\n",
        "  print(\"LIGHTBOT: Lights disabled.\")"
      ],
      "metadata": {
        "id": "WkVWjVChAQrn"
      },
      "execution_count": null,
      "outputs": []
    },
    {
      "cell_type": "code",
      "source": [
        "light_controls = [enable_lights, set_light_color,disable_lights]\n",
        "instruction = \"\"\"you are a helpful lightning system bot. You can turn lights on\n",
        "and off and you can set color of lights. Do not perform any other task\"\"\"\n",
        "\n",
        "model = genai.GenerativeModel(\n",
        "    \"gemini-2.5-flash\", tools= light_controls, system_instruction=instruction\n",
        ")"
      ],
      "metadata": {
        "id": "PEj9q9a3Ek2c"
      },
      "execution_count": null,
      "outputs": []
    },
    {
      "cell_type": "code",
      "source": [
        "# chat = model.start_chat()\n",
        "\n",
        "# res = chat.send_message(\"set light color to red\")\n",
        "# res.text"
      ],
      "metadata": {
        "id": "Z9vY4z2lFgUn"
      },
      "execution_count": null,
      "outputs": []
    },
    {
      "cell_type": "markdown",
      "source": [
        "#Practicing using Dictionary"
      ],
      "metadata": {
        "id": "7-RbW_0ZIhCl"
      }
    },
    {
      "cell_type": "code",
      "source": [
        "students_details={\n",
        "    \"111\": {\n",
        "        \"name\": \"Mudasir Irshad\",\n",
        "        \"age\": 20,\n",
        "        \"grade\": \"A\"\n",
        "    },\n",
        "    \"112\": {\n",
        "        \"name\": \"Haris\",\n",
        "        \"age\": 22,\n",
        "        \"grade\": \"B\"\n",
        "    },\n",
        "    \"113\": {\n",
        "        \"name\": \"Shoaib\",\n",
        "        \"age\": 21,\n",
        "        \"grade\": \"C\"\n",
        "    },\n",
        "    \"114\": {\n",
        "        \"name\": \"Ajlal\",\n",
        "        \"age\": 23,\n",
        "        \"grade\": \"A\"\n",
        "    }\n",
        "}\n",
        "\n",
        "students_marks={\n",
        "    \"111\":{\n",
        "        \"english\": 50,\n",
        "        \"math\": 60,\n",
        "        \"science\": 70\n",
        "    },\n",
        "    \"112\":{\n",
        "        \"english\": 60,\n",
        "        \"math\": 70,\n",
        "        \"science\": 80\n",
        "    },\n",
        "    \"113\":{\n",
        "        \"english\": 70,\n",
        "        \"math\": 80,\n",
        "        \"science\": 90\n",
        "    },\n",
        "    \"114\":{\n",
        "        \"english\": 80,\n",
        "        \"math\": 90,\n",
        "        \"science\": 100\n",
        "    }\n",
        "}\n",
        "\n",
        "print(students_marks.get(\"112\"))"
      ],
      "metadata": {
        "id": "_k_2T9bBIpg9"
      },
      "execution_count": null,
      "outputs": []
    },
    {
      "cell_type": "code",
      "source": [
        "def get_student_details(student_id:str):\n",
        "  \"\"\"Get student detail from students_details dictionary\"\"\"\n",
        "  print(\"SCHOOLBOT: Student details retrieved.\")\n",
        "  return students_details.get(student_id)\n",
        "\n",
        "def get_student_marks(student_id: str):\n",
        "  \"\"\"Get student marks from students_marks dictionary\"\"\"\n",
        "  print(\"SCHOOLBOT: Student marks retrieved.\")\n",
        "  return students_marks.get(student_id)\n",
        "\n",
        "def get_student_marks_and_details(student_id: str):\n",
        "  \"\"\"Get student marks and details from students_details and students_marks dictionary\"\"\"\n",
        "  print(\"SCHOOLBOT: Student marks and details retrieved.\")\n",
        "  return students_details.get(student_id), students_marks.get(student_id)\n",
        "\n",
        "instruction = \"\"\"\n",
        "You are a helpful school's student's details retrieval bot.\n",
        "You can get specific student details by checking student id.\n",
        "you can get specific student marks by checking student id.\n",
        "you can get specific student marks and details by checking student id.\n",
        "Do not perform any other tasks.\n",
        "\"\"\"\n",
        "\n",
        "\n",
        "model = genai.GenerativeModel(\n",
        "    \"gemini-2.0-flash-001\", tools=[get_student_details,get_student_marks,get_student_marks_and_details], system_instruction=instruction\n",
        ")\n",
        "\n"
      ],
      "metadata": {
        "id": "itVJ5dRzJPiI"
      },
      "execution_count": null,
      "outputs": []
    },
    {
      "cell_type": "code",
      "source": [
        "# chat = model.start_chat()\n",
        "\n",
        "# response = chat.send_message(\"get student details and marks of student id 111\")\n",
        "\n",
        "# function_name = response.candidates[0].content.parts[0].function_call.name\n",
        "# student_id = response.candidates[0].content.parts[0].function_call.args[\"student_id\"]\n",
        "\n",
        "# if function_name == \"get_student_details\":\n",
        "#   print(get_student_details(student_id))\n",
        "# elif function_name == \"get_student_marks\":\n",
        "#   print(get_student_marks(student_id))\n",
        "# elif function_name == \"get_student_marks_and_details\":\n",
        "#   print(get_student_marks_and_details(student_id))"
      ],
      "metadata": {
        "id": "u9-gcKA5KYhO"
      },
      "execution_count": null,
      "outputs": []
    },
    {
      "cell_type": "markdown",
      "source": [
        "#Exploring MODES in function_calling\n",
        "\n",
        "\n",
        "1.   NONE\n",
        "2.   ANY\n",
        "3.   AUTO\n",
        "\n"
      ],
      "metadata": {
        "id": "qOqfmfv6apxK"
      }
    },
    {
      "cell_type": "code",
      "source": [
        "from google.generativeai.types import content_types\n",
        "from collections.abc import Iterable\n",
        "\n",
        "def tool_config_from_mode(mode: str, fns: Iterable[str] = ()):\n",
        "  \"\"\"Create a tool config with the specified function calling mode.\"\"\"\n",
        "  return content_types.to_tool_config(\n",
        "      {\"function_calling_config\":{\"mode\":mode, \"allowed_function_names\":fns}}\n",
        "  )"
      ],
      "metadata": {
        "id": "6CvtGZP70quL"
      },
      "execution_count": null,
      "outputs": []
    },
    {
      "cell_type": "markdown",
      "source": [
        "#Automate the process of function calling with result instead of using manuall if else to get specific result from any function\n",
        "chat = model.start_chat(enable_automatic_function_calling=True)"
      ],
      "metadata": {
        "id": "1JP6szrOaoPt"
      }
    },
    {
      "cell_type": "code",
      "source": [
        "chat = model.start_chat(enable_automatic_function_calling=True)\n",
        "\n",
        "tool_config = tool_config_from_mode(\"any\")\n",
        "res = chat.send_message(\"First give me detail of student then his marks then both of student id 114\", tool_config=tool_config)\n"
      ],
      "metadata": {
        "id": "-Dildk9QeN9S"
      },
      "execution_count": null,
      "outputs": []
    },
    {
      "cell_type": "markdown",
      "source": [
        "# 3 things we need in creating a function\n",
        "\n",
        "\n",
        "These three things would be in a single DOC String \"\"\"xxxx\"\"\"\n",
        "*   Description: \"What need to be done by AI\"\n",
        "*   Arguments (Arg): \"what are required to call a function\"\n",
        "*   Return: \"Output generated by function\"\n",
        "\n"
      ],
      "metadata": {
        "id": "aOUtSLVh1TOA"
      }
    },
    {
      "cell_type": "code",
      "source": [
        "def students_remarks_by_teacher(student_id: str):\n",
        "\n",
        "  \"\"\"\n",
        "  get student name and marks for remark generation\n",
        "  \"\"\"\n",
        "\n",
        "  details = students_details.get(student_id)\n",
        "  marks = students_marks.get(student_id)\n",
        "\n",
        "  return {\n",
        "      \"name\": details[\"name\"],\n",
        "      \"marks\": marks\n",
        "  }"
      ],
      "metadata": {
        "id": "LxjEYe4d1LcA"
      },
      "execution_count": null,
      "outputs": []
    },
    {
      "cell_type": "code",
      "source": [
        "remarkBootinstruction = \"\"\"you are a helpful Student Remark's Boot.\n",
        "when asked for student's remarks:\n",
        "1. call students_remarks_by_teacher to get name and marks.\n",
        "2. Analyze the marks and write short remarks about it.\n",
        "3. Remarks must be constructive even if marks are bad.\n",
        "4. Return a good supportive string with remarks\n",
        "Do not perform any other task\"\"\"\n",
        "\n",
        "new_model =  genai.GenerativeModel(\n",
        "    \"gemini-2.5-flash\", tools=[students_remarks_by_teacher], system_instruction=remarkBootinstruction\n",
        ")"
      ],
      "metadata": {
        "id": "8NRtVWTV4prb"
      },
      "execution_count": null,
      "outputs": []
    },
    {
      "cell_type": "code",
      "source": [
        "remark_boot_chat = new_model.start_chat(enable_automatic_function_calling=True)\n",
        "remark_boot_response = remark_boot_chat.send_message('remarks of student id \"111\"')\n",
        "remark_boot_response.text"
      ],
      "metadata": {
        "id": "2rfOqhmu5eaN"
      },
      "execution_count": null,
      "outputs": []
    }
  ]
}