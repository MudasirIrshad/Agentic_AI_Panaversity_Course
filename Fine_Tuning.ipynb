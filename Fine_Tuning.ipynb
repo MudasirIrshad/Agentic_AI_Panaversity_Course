{
  "nbformat": 4,
  "nbformat_minor": 0,
  "metadata": {
    "colab": {
      "provenance": [],
      "authorship_tag": "ABX9TyOnzAXsb7WLRizls9VHagIW",
      "include_colab_link": true
    },
    "kernelspec": {
      "name": "python3",
      "display_name": "Python 3"
    },
    "language_info": {
      "name": "python"
    }
  },
  "cells": [
    {
      "cell_type": "markdown",
      "metadata": {
        "id": "view-in-github",
        "colab_type": "text"
      },
      "source": [
        "<a href=\"https://colab.research.google.com/github/MudasirIrshad/Agentic_AI_Panaversity_Course/blob/main/Fine_Tuning.ipynb\" target=\"_parent\"><img src=\"https://colab.research.google.com/assets/colab-badge.svg\" alt=\"Open In Colab\"/></a>"
      ]
    },
    {
      "cell_type": "markdown",
      "source": [
        "#FINE TUNING\n",
        "Fine-tuning is the process of taking a pre-trained AI model and training it a bit more on a smaller, specific dataset so it adapts to a particular task or domain."
      ],
      "metadata": {
        "id": "LRgrwrkMTKDy"
      }
    },
    {
      "cell_type": "code",
      "source": [],
      "metadata": {
        "id": "Z-zdHNwcTM6o"
      },
      "execution_count": null,
      "outputs": []
    }
  ]
}